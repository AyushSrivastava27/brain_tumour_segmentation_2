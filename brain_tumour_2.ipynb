{
  "nbformat": 4,
  "nbformat_minor": 0,
  "metadata": {
    "colab": {
      "provenance": [],
      "gpuType": "T4",
      "mount_file_id": "1rQKZbUOouYDHXa6cKB_X3EXmhgcqYkws",
      "authorship_tag": "ABX9TyMQOZLc/7ox8Zkv03RVrVXD",
      "include_colab_link": true
    },
    "kernelspec": {
      "name": "python3",
      "display_name": "Python 3"
    },
    "language_info": {
      "name": "python"
    },
    "accelerator": "GPU"
  },
  "cells": [
    {
      "cell_type": "markdown",
      "metadata": {
        "id": "view-in-github",
        "colab_type": "text"
      },
      "source": [
        "<a href=\"https://colab.research.google.com/github/AyushSrivastava27/brain_tumour_segmentation_2/blob/main/brain_tumour_2.ipynb\" target=\"_parent\"><img src=\"https://colab.research.google.com/assets/colab-badge.svg\" alt=\"Open In Colab\"/></a>"
      ]
    },
    {
      "cell_type": "code",
      "execution_count": 1,
      "metadata": {
        "id": "r0pTeD3QfSVi",
        "colab": {
          "base_uri": "https://localhost:8080/"
        },
        "outputId": "a62be301-634c-450d-d62b-b218719e8121"
      },
      "outputs": [
        {
          "output_type": "stream",
          "name": "stdout",
          "text": [
            "GPU 0: Tesla T4 (UUID: GPU-9fafff5d-057d-62fe-cc89-b2d755f29f1a)\n"
          ]
        }
      ],
      "source": [
        "# Get GPU name\n",
        "!nvidia-smi -L"
      ]
    },
    {
      "cell_type": "code",
      "source": [
        "# importing libraries\n",
        "\n",
        "import tensorflow as tf\n",
        "import os\n",
        "import pathlib\n",
        "import numpy as np\n",
        "import matplotlib.pyplot as plt\n",
        "import matplotlib.image as mpimg"
      ],
      "metadata": {
        "id": "cHsa2qdSdcl3"
      },
      "execution_count": 2,
      "outputs": []
    },
    {
      "cell_type": "code",
      "source": [
        "print(f\"TensorFlow version: {tf.__version__}\")"
      ],
      "metadata": {
        "colab": {
          "base_uri": "https://localhost:8080/"
        },
        "id": "WbiGqsA5deL-",
        "outputId": "3518bcad-4b46-4637-9800-bed66d3a2e57"
      },
      "execution_count": 3,
      "outputs": [
        {
          "output_type": "stream",
          "name": "stdout",
          "text": [
            "TensorFlow version: 2.15.0\n"
          ]
        }
      ]
    },
    {
      "cell_type": "code",
      "source": [
        "train_dir = \"/content/drive/MyDrive/Brain Tumor\"\n",
        "test_dir = \"/content/drive/MyDrive/Brain Tumour Detection/archive/Testing\"\n",
        "train_dir_full = \"/content/drive/MyDrive/Brain Tumour Detection/archive/Training\""
      ],
      "metadata": {
        "id": "DFKhO8m0dgEs"
      },
      "execution_count": 4,
      "outputs": []
    },
    {
      "cell_type": "code",
      "source": [
        "# Get the class names for our multi-class dataset\n",
        "data_dir = pathlib.Path(train_dir)\n",
        "class_names = np.array([item.name for item in data_dir.glob('*')])\n",
        "print(class_names)"
      ],
      "metadata": {
        "colab": {
          "base_uri": "https://localhost:8080/"
        },
        "id": "hytFX7dOdpPO",
        "outputId": "2b18f18a-3b95-495f-e7ab-da867340b2d4"
      },
      "execution_count": 5,
      "outputs": [
        {
          "output_type": "stream",
          "name": "stdout",
          "text": [
            "['notumor' 'glioma' 'pituitary' 'meningioma']\n"
          ]
        }
      ]
    },
    {
      "cell_type": "code",
      "source": [
        "# Setup data inputs\n",
        "\n",
        "IMG_SIZE = (224, 224)\n",
        "train_data = tf.keras.preprocessing.image_dataset_from_directory(train_dir,\n",
        "                                                                label_mode=\"categorical\",\n",
        "                                                                image_size=IMG_SIZE)\n",
        "\n",
        "test_data = tf.keras.preprocessing.image_dataset_from_directory(test_dir,\n",
        "                                                                label_mode=\"categorical\",\n",
        "                                                                image_size=IMG_SIZE,\n",
        "                                                                shuffle=False) # don't shuffle test data for prediction analysis\n",
        "\n",
        "train_data_full = tf.keras.preprocessing.image_dataset_from_directory(train_dir_full,\n",
        "                                                                label_mode=\"categorical\",\n",
        "                                                                image_size=IMG_SIZE)"
      ],
      "metadata": {
        "colab": {
          "base_uri": "https://localhost:8080/"
        },
        "id": "imaB-th9d21Q",
        "outputId": "228b9459-a70d-450e-d417-5f58b19a5506"
      },
      "execution_count": 6,
      "outputs": [
        {
          "output_type": "stream",
          "name": "stdout",
          "text": [
            "Found 1200 files belonging to 4 classes.\n",
            "Found 1311 files belonging to 4 classes.\n",
            "Found 5722 files belonging to 4 classes.\n"
          ]
        }
      ]
    },
    {
      "cell_type": "code",
      "source": [
        "# Helper Functions\n",
        "\n",
        "### We are creating a bunch of helpful functions\n",
        "\n",
        "# Create a function to import an image and resize it to be able to be used with our model\n",
        "\n",
        "def load_and_prep_image(filename, img_shape=224, scale=True):\n",
        "  \"\"\"\n",
        "  Reads in an image from filename, turns it into a tensor and reshapes into\n",
        "  (224, 224, 3).\n",
        "\n",
        "  Parameters\n",
        "  ----------\n",
        "  filename (str): string filename of target image\n",
        "  img_shape (int): size to resize target image to, default 224\n",
        "  scale (bool): whether to scale pixel values to range(0, 1), default True\n",
        "  \"\"\"\n",
        "  # Read in the image\n",
        "  img = tf.io.read_file(filename)\n",
        "  # Decode it into a tensor\n",
        "  img = tf.image.decode_jpeg(img)\n",
        "  # Resize the image\n",
        "  img = tf.image.resize(img, [img_shape, img_shape])\n",
        "  if scale:\n",
        "    # Rescale the image (get all values between 0 and 1)\n",
        "    return img/255.\n",
        "  else:\n",
        "    return img\n",
        "\n",
        "# Make a function to predict on images and plot them\n",
        "def pred_and_plot(model, filename, class_names):\n",
        "  \"\"\"\n",
        "  Imports an image located at filename, makes a prediction on it with\n",
        "  a trained model and plots the image with the predicted class as the title.\n",
        "  \"\"\"\n",
        "  # Import the target image and preprocess it\n",
        "  img = load_and_prep_image(filename)\n",
        "\n",
        "  # Make a prediction\n",
        "  pred = model.predict(tf.expand_dims(img, axis=0))\n",
        "\n",
        "  # Get the predicted class\n",
        "  if len(pred[0]) > 1: # check for multi-class\n",
        "    pred_class = class_names[pred.argmax()] # if more than one output, take the max\n",
        "  else:\n",
        "    pred_class = class_names[int(tf.round(pred)[0][0])] # if only one output, round\n",
        "\n",
        "  # Plot the image and predicted class\n",
        "  plt.imshow(img)\n",
        "  plt.title(f\"Prediction: {pred_class}\")\n",
        "  plt.axis(False);\n",
        "\n",
        "import datetime\n",
        "\n",
        "def create_tensorboard_callback(dir_name, experiment_name):\n",
        "  \"\"\"\n",
        "  Creates a TensorBoard callback instand to store log files.\n",
        "\n",
        "  Stores log files with the filepath:\n",
        "    \"dir_name/experiment_name/current_datetime/\"\n",
        "\n",
        "  Args:\n",
        "    dir_name: target directory to store TensorBoard log files\n",
        "    experiment_name: name of experiment directory (e.g. efficientnet_model_1)\n",
        "  \"\"\"\n",
        "  log_dir = dir_name + \"/\" + experiment_name + \"/\" + datetime.datetime.now().strftime(\"%Y%m%d-%H%M%S\")\n",
        "  tensorboard_callback = tf.keras.callbacks.TensorBoard(\n",
        "      log_dir=log_dir\n",
        "  )\n",
        "  print(f\"Saving TensorBoard log files to: {log_dir}\")\n",
        "  return tensorboard_callback\n",
        "\n",
        "# Plot the validation and training data separately\n",
        "import matplotlib.pyplot as plt\n",
        "\n",
        "def plot_loss_curves(history):\n",
        "  \"\"\"\n",
        "  Returns separate loss curves for training and validation metrics.\n",
        "\n",
        "  Args:\n",
        "    history: TensorFlow model History object (see: https://www.tensorflow.org/api_docs/python/tf/keras/callbacks/History)\n",
        "  \"\"\"\n",
        "  loss = history.history['loss']\n",
        "  val_loss = history.history['val_loss']\n",
        "\n",
        "  accuracy = history.history['accuracy']\n",
        "  val_accuracy = history.history['val_accuracy']\n",
        "\n",
        "  epochs = range(len(history.history['loss']))\n",
        "\n",
        "  # Plot loss\n",
        "  plt.plot(epochs, loss, label='training_loss')\n",
        "  plt.plot(epochs, val_loss, label='val_loss')\n",
        "  plt.title('Loss')\n",
        "  plt.xlabel('Epochs')\n",
        "  plt.legend()\n",
        "\n",
        "  # Plot accuracy\n",
        "  plt.figure()\n",
        "  plt.plot(epochs, accuracy, label='training_accuracy')\n",
        "  plt.plot(epochs, val_accuracy, label='val_accuracy')\n",
        "  plt.title('Accuracy')\n",
        "  plt.xlabel('Epochs')\n",
        "  plt.legend();\n",
        "\n",
        "# Function to evaluate: accuracy, precision, recall, f1-score\n",
        "from sklearn.metrics import accuracy_score, precision_recall_fscore_support\n",
        "\n",
        "def calculate_results(y_true, y_pred):\n",
        "  \"\"\"\n",
        "  Calculates model accuracy, precision, recall and f1 score of a binary classification model.\n",
        "\n",
        "  Args:\n",
        "      y_true: true labels in the form of a 1D array\n",
        "      y_pred: predicted labels in the form of a 1D array\n",
        "\n",
        "  Returns a dictionary of accuracy, precision, recall, f1-score.\n",
        "  \"\"\"\n",
        "  # Calculate model accuracy\n",
        "  model_accuracy = accuracy_score(y_true, y_pred) * 100\n",
        "  # Calculate model precision, recall and f1 score using \"weighted average\n",
        "  model_precision, model_recall, model_f1, _ = precision_recall_fscore_support(y_true, y_pred, average=\"weighted\")\n",
        "  model_results = {\"accuracy\": model_accuracy,\n",
        "                  \"precision\": model_precision,\n",
        "                  \"recall\": model_recall,\n",
        "                  \"f1\": model_f1}\n",
        "  return model_results\n"
      ],
      "metadata": {
        "id": "SsOd68u3d3j5"
      },
      "execution_count": 7,
      "outputs": []
    },
    {
      "cell_type": "code",
      "source": [
        "# Setting up EarlyStopping callback to stop training if model's val_loss doesn't improve for 3 epochs\n",
        "early_stopping = tf.keras.callbacks.EarlyStopping(monitor=\"val_loss\", # watch the val loss metric\n",
        "                                                  patience=3) # if val loss decreases for 3 epochs in a row, stop training\n",
        "\n",
        "# Creating ModelCheckpoint callback to save best model during fine-tuning\n",
        "checkpoint_path = \"model_checkpoints/cp.ckpt\" # saving weights requires \".ckpt\" extension\n",
        "model_checkpoint = tf.keras.callbacks.ModelCheckpoint(checkpoint_path,\n",
        "                                                      monitor=\"val_accuracy\", # save the model weights with best validation accuracy\n",
        "                                                      save_best_only=True, # only save the best weights\n",
        "                                                      save_weights_only=True, # only save model weights (not whole model)\n",
        "                                                      verbose=0) # don't print out whether or not model is being saved"
      ],
      "metadata": {
        "id": "Jo91Rwved7_r"
      },
      "execution_count": 8,
      "outputs": []
    },
    {
      "cell_type": "code",
      "source": [
        "# Creating learning rate reduction callback\n",
        "reduce_lr = tf.keras.callbacks.ReduceLROnPlateau(monitor=\"val_loss\",\n",
        "                                                 factor=0.2, # multiply the learning rate by 0.2 (reduce by 5x)\n",
        "                                                 patience=2,\n",
        "                                                 verbose=1, # print out when learning rate goes down\n",
        "                                                 min_lr=1e-7)"
      ],
      "metadata": {
        "id": "S0hE08tad-H4"
      },
      "execution_count": 9,
      "outputs": []
    },
    {
      "cell_type": "code",
      "source": [
        "# Importing the required modules for model creation\n",
        "from tensorflow.keras import layers\n",
        "from tensorflow.keras.models import Sequential\n",
        "\n",
        "data_augmentation = Sequential([\n",
        "  layers.RandomFlip(\"horizontal\"),\n",
        "  layers.RandomRotation(0.2),\n",
        "  layers.RandomZoom(0.2),\n",
        "  layers.RandomHeight(0.2),\n",
        "  layers.RandomWidth(0.2),\n",
        "  # preprocessing.Rescaling(1./255) # removing for EfficientNetB0\n",
        "], name =\"data_augmentation\")"
      ],
      "metadata": {
        "id": "99zgJNcqgkw0"
      },
      "execution_count": 10,
      "outputs": []
    },
    {
      "cell_type": "code",
      "source": [
        "import tensorflow as tf\n",
        "from tensorflow.keras.applications import EfficientNetB0, InceptionV3\n",
        "from tensorflow.keras.layers import Input, GlobalAveragePooling2D, Dense, Concatenate\n",
        "from tensorflow.keras.models import Model\n",
        "\n",
        "# Load pre-trained EfficientNetB0 and InceptionV3 models (without top layers)\n",
        "efficientnet_model = EfficientNetB0(weights='imagenet', include_top=False, input_shape=(224, 224, 3))\n",
        "inception_model = InceptionV3(weights='imagenet', include_top=False, input_shape=(224, 224, 3))\n",
        "\n",
        "# Create a shared classification layer\n",
        "classification_layer = Dense(4, activation='softmax')\n",
        "\n",
        "# Create input layer\n",
        "input_layer = Input(shape=(224, 224, 3), name=\"input_layer\")\n",
        "\n",
        "# Extract features from EfficientNetB0\n",
        "efficientnet_features = efficientnet_model(input_layer)\n",
        "efficientnet_features = GlobalAveragePooling2D()(efficientnet_features)\n",
        "\n",
        "# Extract features from InceptionV3\n",
        "inception_features = inception_model(input_layer)\n",
        "inception_features = GlobalAveragePooling2D()(inception_features)\n",
        "\n",
        "# Concatenate the features\n",
        "combined_features = Concatenate()([efficientnet_features, inception_features])\n",
        "\n",
        "# Add the classification layer\n",
        "output = classification_layer(combined_features)\n",
        "\n",
        "# Create the combined model\n",
        "combined_model = Model(inputs=input_layer, outputs=output)\n",
        "\n",
        "# Compile the model\n",
        "combined_model.compile(loss=\"categorical_crossentropy\", # sparse_categorical_crossentropy for labels that are *not* one-hot\n",
        "                      optimizer=tf.keras.optimizers.Adam(0.0001), # 10x lower learning rate than the default\n",
        "                      metrics=[\"accuracy\", tf.keras.metrics.Precision(), tf.keras.metrics.Recall(), tf.keras.metrics.F1Score(average='macro')])\n",
        "\n",
        "# Print model summary\n",
        "combined_model.summary()\n"
      ],
      "metadata": {
        "colab": {
          "base_uri": "https://localhost:8080/"
        },
        "id": "BZ9xtxQIglp0",
        "outputId": "6b639005-1949-443c-e95f-b645673be6ee"
      },
      "execution_count": 11,
      "outputs": [
        {
          "output_type": "stream",
          "name": "stdout",
          "text": [
            "Downloading data from https://storage.googleapis.com/keras-applications/efficientnetb0_notop.h5\n",
            "16705208/16705208 [==============================] - 0s 0us/step\n",
            "Downloading data from https://storage.googleapis.com/tensorflow/keras-applications/inception_v3/inception_v3_weights_tf_dim_ordering_tf_kernels_notop.h5\n",
            "87910968/87910968 [==============================] - 1s 0us/step\n",
            "Model: \"model\"\n",
            "__________________________________________________________________________________________________\n",
            " Layer (type)                Output Shape                 Param #   Connected to                  \n",
            "==================================================================================================\n",
            " input_layer (InputLayer)    [(None, 224, 224, 3)]        0         []                            \n",
            "                                                                                                  \n",
            " efficientnetb0 (Functional  (None, 7, 7, 1280)           4049571   ['input_layer[0][0]']         \n",
            " )                                                                                                \n",
            "                                                                                                  \n",
            " inception_v3 (Functional)   (None, 5, 5, 2048)           2180278   ['input_layer[0][0]']         \n",
            "                                                          4                                       \n",
            "                                                                                                  \n",
            " global_average_pooling2d (  (None, 1280)                 0         ['efficientnetb0[0][0]']      \n",
            " GlobalAveragePooling2D)                                                                          \n",
            "                                                                                                  \n",
            " global_average_pooling2d_1  (None, 2048)                 0         ['inception_v3[0][0]']        \n",
            "  (GlobalAveragePooling2D)                                                                        \n",
            "                                                                                                  \n",
            " concatenate_2 (Concatenate  (None, 3328)                 0         ['global_average_pooling2d[0][\n",
            " )                                                                  0]',                          \n",
            "                                                                     'global_average_pooling2d_1[0\n",
            "                                                                    ][0]']                        \n",
            "                                                                                                  \n",
            " dense (Dense)               (None, 4)                    13316     ['concatenate_2[0][0]']       \n",
            "                                                                                                  \n",
            "==================================================================================================\n",
            "Total params: 25865671 (98.67 MB)\n",
            "Trainable params: 25789216 (98.38 MB)\n",
            "Non-trainable params: 76455 (298.66 KB)\n",
            "__________________________________________________________________________________________________\n"
          ]
        }
      ]
    },
    {
      "cell_type": "code",
      "source": [
        "# Start to fine-tune\n",
        "history_1 = combined_model.fit(train_data_full,\n",
        "                      epochs=100,\n",
        "                      steps_per_epoch=len(train_data_full),\n",
        "                      validation_data=test_data,\n",
        "                      # validation_steps=int(0.15 * len(test_data)),\n",
        "                      callbacks=[create_tensorboard_callback(\"training_logs\", \"combined_all_data_fine_tuning\"),\n",
        "                                  model_checkpoint,\n",
        "                                  early_stopping,\n",
        "                                  reduce_lr])"
      ],
      "metadata": {
        "colab": {
          "base_uri": "https://localhost:8080/"
        },
        "id": "_oprQZMkjcQT",
        "outputId": "998369cc-6dcc-4ea9-82f0-25b8abf2775d"
      },
      "execution_count": 12,
      "outputs": [
        {
          "output_type": "stream",
          "name": "stdout",
          "text": [
            "Saving TensorBoard log files to: training_logs/combined_all_data_fine_tuning/20240402-170731\n",
            "Epoch 1/100\n",
            "179/179 [==============================] - 1625s 8s/step - loss: 0.2252 - accuracy: 0.9229 - precision: 0.9426 - recall: 0.9011 - f1_score: 0.9204 - val_loss: 0.0930 - val_accuracy: 0.9649 - val_precision: 0.9663 - val_recall: 0.9634 - val_f1_score: 0.9624 - lr: 1.0000e-04\n",
            "Epoch 2/100\n",
            "179/179 [==============================] - 110s 606ms/step - loss: 0.0410 - accuracy: 0.9885 - precision: 0.9897 - recall: 0.9879 - f1_score: 0.9881 - val_loss: 0.0607 - val_accuracy: 0.9786 - val_precision: 0.9786 - val_recall: 0.9786 - val_f1_score: 0.9769 - lr: 1.0000e-04\n",
            "Epoch 3/100\n",
            "179/179 [==============================] - 104s 578ms/step - loss: 0.0223 - accuracy: 0.9948 - precision: 0.9948 - recall: 0.9941 - f1_score: 0.9945 - val_loss: 0.0658 - val_accuracy: 0.9794 - val_precision: 0.9794 - val_recall: 0.9794 - val_f1_score: 0.9778 - lr: 1.0000e-04\n",
            "Epoch 4/100\n",
            "179/179 [==============================] - 105s 578ms/step - loss: 0.0200 - accuracy: 0.9948 - precision: 0.9951 - recall: 0.9942 - f1_score: 0.9945 - val_loss: 0.0508 - val_accuracy: 0.9855 - val_precision: 0.9863 - val_recall: 0.9855 - val_f1_score: 0.9843 - lr: 1.0000e-04\n",
            "Epoch 5/100\n",
            "179/179 [==============================] - 102s 567ms/step - loss: 0.0199 - accuracy: 0.9937 - precision: 0.9944 - recall: 0.9927 - f1_score: 0.9936 - val_loss: 0.0905 - val_accuracy: 0.9687 - val_precision: 0.9694 - val_recall: 0.9680 - val_f1_score: 0.9670 - lr: 1.0000e-04\n",
            "Epoch 6/100\n",
            "179/179 [==============================] - 104s 579ms/step - loss: 0.0181 - accuracy: 0.9939 - precision: 0.9941 - recall: 0.9934 - f1_score: 0.9937 - val_loss: 0.0322 - val_accuracy: 0.9870 - val_precision: 0.9885 - val_recall: 0.9870 - val_f1_score: 0.9862 - lr: 1.0000e-04\n",
            "Epoch 7/100\n",
            "179/179 [==============================] - 103s 567ms/step - loss: 0.0218 - accuracy: 0.9932 - precision: 0.9937 - recall: 0.9928 - f1_score: 0.9930 - val_loss: 0.1037 - val_accuracy: 0.9741 - val_precision: 0.9741 - val_recall: 0.9741 - val_f1_score: 0.9722 - lr: 1.0000e-04\n",
            "Epoch 8/100\n",
            "179/179 [==============================] - ETA: 0s - loss: 0.0035 - accuracy: 0.9990 - precision: 0.9990 - recall: 0.9990 - f1_score: 0.9989\n",
            "Epoch 8: ReduceLROnPlateau reducing learning rate to 1.9999999494757503e-05.\n",
            "179/179 [==============================] - 103s 570ms/step - loss: 0.0035 - accuracy: 0.9990 - precision: 0.9990 - recall: 0.9990 - f1_score: 0.9989 - val_loss: 0.0711 - val_accuracy: 0.9832 - val_precision: 0.9832 - val_recall: 0.9825 - val_f1_score: 0.9819 - lr: 1.0000e-04\n",
            "Epoch 9/100\n",
            "179/179 [==============================] - 104s 579ms/step - loss: 0.0027 - accuracy: 0.9997 - precision: 0.9997 - recall: 0.9997 - f1_score: 0.9996 - val_loss: 0.0195 - val_accuracy: 0.9947 - val_precision: 0.9947 - val_recall: 0.9947 - val_f1_score: 0.9942 - lr: 2.0000e-05\n",
            "Epoch 10/100\n",
            "179/179 [==============================] - 103s 568ms/step - loss: 0.0025 - accuracy: 0.9997 - precision: 0.9997 - recall: 0.9995 - f1_score: 0.9996 - val_loss: 0.0246 - val_accuracy: 0.9931 - val_precision: 0.9931 - val_recall: 0.9931 - val_f1_score: 0.9926 - lr: 2.0000e-05\n",
            "Epoch 11/100\n",
            "179/179 [==============================] - ETA: 0s - loss: 0.0018 - accuracy: 0.9995 - precision: 0.9995 - recall: 0.9995 - f1_score: 0.9995\n",
            "Epoch 11: ReduceLROnPlateau reducing learning rate to 3.999999898951501e-06.\n",
            "179/179 [==============================] - 102s 567ms/step - loss: 0.0018 - accuracy: 0.9995 - precision: 0.9995 - recall: 0.9995 - f1_score: 0.9995 - val_loss: 0.0238 - val_accuracy: 0.9947 - val_precision: 0.9947 - val_recall: 0.9947 - val_f1_score: 0.9942 - lr: 2.0000e-05\n",
            "Epoch 12/100\n",
            "179/179 [==============================] - 107s 593ms/step - loss: 9.6558e-04 - accuracy: 0.9998 - precision: 0.9998 - recall: 0.9998 - f1_score: 0.9998 - val_loss: 0.0209 - val_accuracy: 0.9947 - val_precision: 0.9947 - val_recall: 0.9947 - val_f1_score: 0.9942 - lr: 4.0000e-06\n"
          ]
        }
      ]
    },
    {
      "cell_type": "code",
      "source": [
        "# Evaluate fine-tuned model on the whole test dataset\n",
        "results = combined_model.evaluate(test_data)\n",
        "results"
      ],
      "metadata": {
        "colab": {
          "base_uri": "https://localhost:8080/"
        },
        "id": "EdhcWx37kxx9",
        "outputId": "974b895b-03e1-447f-87fa-12ae34485648"
      },
      "execution_count": 13,
      "outputs": [
        {
          "output_type": "stream",
          "name": "stdout",
          "text": [
            "41/41 [==============================] - 5s 127ms/step - loss: 0.0209 - accuracy: 0.9947 - precision: 0.9947 - recall: 0.9947 - f1_score: 0.9942\n"
          ]
        },
        {
          "output_type": "execute_result",
          "data": {
            "text/plain": [
              "[0.020903998985886574,\n",
              " 0.9946605563163757,\n",
              " 0.9946605563163757,\n",
              " 0.9946605563163757,\n",
              " 0.9942295551300049]"
            ]
          },
          "metadata": {},
          "execution_count": 13
        }
      ]
    },
    {
      "cell_type": "code",
      "source": [
        "plot_loss_curves(history_1)"
      ],
      "metadata": {
        "colab": {
          "base_uri": "https://localhost:8080/",
          "height": 927
        },
        "id": "tFOTzAEOmaeT",
        "outputId": "880e742c-2bf1-4fb3-d759-31b676d870af"
      },
      "execution_count": 17,
      "outputs": [
        {
          "output_type": "display_data",
          "data": {
            "text/plain": [
              "<Figure size 640x480 with 1 Axes>"
            ],
            "image/png": "[encoded data removed]"
          },
          "metadata": {}
        },
        {
          "output_type": "display_data",
          "data": {
            "text/plain": [
              "<Figure size 640x480 with 1 Axes>"
            ],
            "image/png": "[encoded data removed]"
          },
          "metadata": {}
        }
      ]
    },
    {
      "cell_type": "code",
      "source": [
        "# Saving our best model\n",
        "\n",
        "model_path = \"drive/My Drive/Data/models/saved_combined_model.h5\"\n",
        "print(f\"Saving model to: {model_path}...\")\n",
        "combined_model.save(model_path)"
      ],
      "metadata": {
        "colab": {
          "base_uri": "https://localhost:8080/"
        },
        "id": "EKxnsnWvnMLj",
        "outputId": "0797228e-29e5-458f-cf70-3e1125426eab"
      },
      "execution_count": 18,
      "outputs": [
        {
          "output_type": "stream",
          "name": "stdout",
          "text": [
            "Saving model to: drive/My Drive/Data/models/saved_combined_model.h5...\n"
          ]
        }
      ]
    }
  ]
}