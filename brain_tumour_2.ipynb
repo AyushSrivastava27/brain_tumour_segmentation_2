{
  "nbformat": 4,
  "nbformat_minor": 0,
  "metadata": {
    "colab": {
      "provenance": [],
      "mount_file_id": "https://gist.github.com/AyushSrivastava27/7776ea3250b5aa55e43fe0f6cc77e30c#file-brain_tumour_2-ipynb",
      "authorship_tag": "ABX9TyNND+Qrzo19QDJVmm2WI407",
      "include_colab_link": true
    },
    "kernelspec": {
      "name": "python3",
      "display_name": "Python 3"
    },
    "language_info": {
      "name": "python"
    }
  },
  "cells": [
    {
      "cell_type": "markdown",
      "metadata": {
        "id": "view-in-github",
        "colab_type": "text"
      },
      "source": [
        "<a href=\"https://colab.research.google.com/github/AyushSrivastava27/brain_tumour_segmentation_2/blob/main/brain_tumour_2.ipynb\" target=\"_parent\"><img src=\"https://colab.research.google.com/assets/colab-badge.svg\" alt=\"Open In Colab\"/></a>"
      ]
    },
    {
      "cell_type": "markdown",
      "source": [],
      "metadata": {
        "id": "5aj0asFtlT_j"
      }
    },
    {
      "cell_type": "code",
      "execution_count": 1,
      "metadata": {
        "id": "r0pTeD3QfSVi"
      },
      "outputs": [],
      "source": [
        "\n",
        "# importing libraries\n",
        "\n",
        "import tensorflow as tf\n",
        "import os\n",
        "import pathlib\n",
        "import numpy as np\n",
        "import matplotlib.pyplot as plt\n",
        "import matplotlib.image as mpimg\n"
      ]
    },
    {
      "cell_type": "code",
      "source": [
        "print(f\"TensorFlow version: {tf.__version__}\")"
      ],
      "metadata": {
        "id": "Q72maZNRKOkw",
        "outputId": "2e7f91ff-0d15-4437-d069-14ed7e8ddb40",
        "colab": {
          "base_uri": "https://localhost:8080/"
        }
      },
      "execution_count": 5,
      "outputs": [
        {
          "output_type": "stream",
          "name": "stdout",
          "text": [
            "TensorFlow version: 2.15.0\n"
          ]
        }
      ]
    },
    {
      "cell_type": "code",
      "source": [
        "\n",
        "train_dir = \"drive/MyDrive/Brain Tumour Detection/archive/Training/\"\n",
        "test_dir = \"drive/MyDrive/Brain Tumour Detection/archive/Testing\""
      ],
      "metadata": {
        "id": "oZGiBRGwKb7T"
      },
      "execution_count": 6,
      "outputs": []
    },
    {
      "cell_type": "code",
      "source": [
        "\n",
        "# Get the class names for our multi-class dataset\n",
        "data_dir = pathlib.Path(train_dir)\n",
        "class_names = np.array([item.name for item in data_dir.glob('*')])\n",
        "print(class_names)"
      ],
      "metadata": {
        "id": "2HCG8egxKeMI",
        "outputId": "1a6ceef3-a11e-4592-d5ba-0441cc4ffa25",
        "colab": {
          "base_uri": "https://localhost:8080/"
        }
      },
      "execution_count": 7,
      "outputs": [
        {
          "output_type": "stream",
          "name": "stdout",
          "text": [
            "['glioma' 'meningioma' 'notumor' 'pituitary']\n"
          ]
        }
      ]
    },
    {
      "cell_type": "code",
      "source": [
        "def extract_class_info(dataset_path):\n",
        "    class_names = []\n",
        "    class_counts = []\n",
        "\n",
        "    for class_folder in os.listdir(dataset_path):\n",
        "        class_path = os.path.join(dataset_path, class_folder)\n",
        "\n",
        "        if os.path.isdir(class_path):\n",
        "            class_names.append(class_folder)\n",
        "            class_counts.append(len(os.listdir(class_path)))\n",
        "\n",
        "    return class_names, class_counts\n",
        "\n",
        "train_class_names, train_class_counts = extract_class_info(train_dir)\n",
        "test_class_names, test_class_counts = extract_class_info(test_dir)\n",
        "\n",
        "# Display the information\n",
        "print(\"Train Dataset:\")\n",
        "for name, count in zip(train_class_names, train_class_counts):\n",
        "    print(f\"Class: {name}, Count: {count}\")\n",
        "\n",
        "print(\"\\nTest Dataset:\")\n",
        "for name, count in zip(test_class_names, test_class_counts):\n",
        "    print(f\"Class: {name}, Count: {count}\")"
      ],
      "metadata": {
        "id": "NlijrGIUKhIv",
        "outputId": "fd2006d8-920e-4c99-c651-ea6085eca2fa",
        "colab": {
          "base_uri": "https://localhost:8080/"
        }
      },
      "execution_count": 8,
      "outputs": [
        {
          "output_type": "stream",
          "name": "stdout",
          "text": [
            "Train Dataset:\n",
            "Class: glioma, Count: 1321\n",
            "Class: meningioma, Count: 1339\n",
            "Class: notumor, Count: 1595\n",
            "Class: pituitary, Count: 1467\n",
            "\n",
            "Test Dataset:\n",
            "Class: glioma, Count: 300\n",
            "Class: meningioma, Count: 306\n",
            "Class: pituitary, Count: 300\n",
            "Class: notumor, Count: 405\n"
          ]
        }
      ]
    },
    {
      "cell_type": "code",
      "source": [],
      "metadata": {
        "id": "3NfrQ7G6KujQ"
      },
      "execution_count": null,
      "outputs": []
    }
  ]
}